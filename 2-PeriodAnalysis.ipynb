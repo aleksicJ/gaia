{
 "cells": [
  {
   "cell_type": "markdown",
   "metadata": {},
   "source": [
    "# Period analysis of cepheids from GAIA"
   ]
  },
  {
   "cell_type": "markdown",
   "metadata": {},
   "source": [
    "In this notebook time-series analysis of variable stars from GAIA is performed.\n",
    "First, GAIA database is queried for objects. Then, for each object, lightcurve is downloaded, and period is calculated.\n",
    "Values for periods from GAIA database and those calculated here can be compared."
   ]
  },
  {
   "cell_type": "code",
   "execution_count": null,
   "metadata": {},
   "outputs": [],
   "source": [
    "import numpy as np\n",
    "import os\n",
    "import subprocess\n",
    "import matplotlib.pyplot as plt\n",
    "from astropy.io.votable import parse_single_table\n",
    "from astroML.time_series import lomb_scargle, multiterm_periodogram, search_frequencies, lomb_scargle_BIC, lomb_scargle_bootstrap\n",
    "from astroquery.gaia import Gaia"
   ]
  },
  {
   "cell_type": "markdown",
   "metadata": {},
   "source": [
    "The first step is to load objects from external database. This is done in separate procedure.\n",
    "In this case, the goal is to develop time-series analysis, so only few objects will be used.\n",
    "Several cepheids are selected from GAIA catalog of variable stars. Also, only source ID and period are obtained."
   ]
  },
  {
   "cell_type": "code",
   "execution_count": null,
   "metadata": {},
   "outputs": [],
   "source": [
    "# get few sources where mode_best_classification = FUNDAMENTAL (i.e. no overtone or multimode pulsators)\n",
    "query=\"select top 5 source_id, pf from gaiadr2.vari_cepheid where type_best_classification = 'ACEP' and mode_best_classification = 'FUNDAMENTAL'\""
   ]
  },
  {
   "cell_type": "code",
   "execution_count": null,
   "metadata": {},
   "outputs": [],
   "source": [
    "name=None\n",
    "output_file='results'\n",
    "output_format='csv'\n",
    "verbose=False\n",
    "dump_to_file=True\n",
    "background=False\n",
    "upload_resource=None\n",
    "upload_table_name=None\n",
    "\n",
    "job = Gaia.launch_job_async(query, name, output_file, output_format, verbose, dump_to_file, background, upload_resource, upload_table_name)\n",
    "\n",
    "results = job.get_results()"
   ]
  },
  {
   "cell_type": "markdown",
   "metadata": {},
   "source": [
    "Optionally, we can view, save to file or plot the results."
   ]
  },
  {
   "cell_type": "code",
   "execution_count": null,
   "metadata": {},
   "outputs": [],
   "source": [
    "print(\"Results:\\n\", results)\n",
    "\n",
    "# x = results['source_id']\n",
    "# y = results['pf']\n",
    "# scatterplot\n"
   ]
  },
  {
   "cell_type": "markdown",
   "metadata": {},
   "source": [
    "Here, procedures that will be used in the main part are defined."
   ]
  },
  {
   "cell_type": "code",
   "execution_count": null,
   "metadata": {},
   "outputs": [],
   "source": [
    "def downloadLightcurveData(id, valid_data = 'True', band = 'G', format = 'VOTABLE', datadir = '/home/jaleksic/DATA/GaiaLCs/'):\n",
    "    ''' Download lightcurve data from Gaia. Data is stored with the filename equal to source id.\n",
    "    \n",
    "    id (long):  Source_id value from the DR2 gaia_source catalogue.\n",
    "    valid_data (boolean): Whether to return only valid data (data rows where flux is not null and rejected_by_photometry flag is not true) or all data associated to a given source\n",
    "    band (string): Values = G | BP | RP\n",
    "    format (string): Output format for the downloaded data. Values = VOTABLE | VOTABLE_PLAIN | FITS | CSV\n",
    "    datadir: Output directory for download\n",
    "    \n",
    "    Note: at this moment only votable format is supported. Other formats will be added subsequently.\n",
    "    '''\n",
    "    if format==\"VOTABLE\": ext=\".vot\"\n",
    "    elif format==\"VOTABLE_PLAIN\": ext=\".votplain\"\n",
    "    elif format==\"FITS\": ext=\".fits\"\n",
    "    elif format==\"CSV\": ext=\".csv\"\n",
    "    else: print(\"Unsupported format\")\n",
    "    \n",
    "    commandstring = \"curl -k 'http://geadata.esac.esa.int/data-server/data?RETRIEVAL_TYPE=epoch_photometry&ID=\"+id+\"&VALID_DATA=\"+valid_data+\"&BAND=\"+band+\"&FORMAT=\"+format+\"' > \"+datadir+id+ext\n",
    "    subprocess.run(commandstring, shell=True, stdout=subprocess.DEVNULL, stderr=subprocess.DEVNULL)\n",
    "    \n",
    "def findBestFrequency(t, y, dy, LS_func=lomb_scargle, LS_kwargs=None, initial_guess=25, limit_fractions=[0.04,0.3,0.9,0.99], n_eval=10000, n_retry=5, n_save=50):\n",
    "    omegas_iterative = search_frequencies(t, y, dy, LS_func=lomb_scargle, LS_kwargs=None, initial_guess=25, limit_fractions=[0.04,0.3,0.9,0.99], n_eval=10000, n_retry=5, n_save=50)\n",
    "    bestFrequency = omegas_iterative[0][omegas_iterative[1].argmax()]\n",
    "    return bestFrequency    \n",
    "\n",
    "def analyzePeriodograms(file, plot_lightcurve=True, plot_LS=True, calculate_multiterm=False, plot_multiterm=False):\n",
    "    ''' Take data from the file and analyze Lomb-Scargle and Multiterm periodograms\n",
    "    file: file with lightcurve data\n",
    "    '''\n",
    "    \n",
    "    table = parse_single_table(file) # Here, only votable format is supported. Other formats will be added.\n",
    "\n",
    "    data = table.array\n",
    "    \n",
    "    time = data['time']\n",
    "    flux = data['flux']\n",
    "    flux_error = data['flux_error']\n",
    "    \n",
    "    if plot_lightcurve:\n",
    "        # Plot the lightcurve\n",
    "        ax1 = plt.subplot(311)\n",
    "        ax1.scatter(time,flux, marker='.')\n",
    "        ax1.set_title('Light curve')\n",
    "        ax1.set_xlabel('time')\n",
    "        ax1.set_ylabel('flux')\n",
    "    \n",
    "    \n",
    "    tmax=max(time)\n",
    "    tmin=min(time)\n",
    "    tdata=tmax-tmin\n",
    "    \n",
    "    stepslice = 0.1\n",
    "    omegamin = 2.*np.pi/tdata\n",
    "    omegamax = 2.*np.pi*np.mean(1./np.ediff1d(time))\n",
    "    omegastep = stepslice*omegamin \n",
    "    \n",
    "    frequencies = np.arange(start=omegamin, stop=omegamax, step=omegastep)\n",
    "    periods = 2*np.pi/frequencies\n",
    "    \n",
    "    # Calculate best frequency by iterative procedure\n",
    "    bestfrequency = findBestFrequency(t=time, y=flux, dy=flux_error)\n",
    "    bestperioditer = 2*np.pi/bestfrequency\n",
    "    print(\"Best period calculated by iterative procedure:\", bestperioditer)\n",
    "    \n",
    "    # Calculate Lomb-Scargle periodogram\n",
    "    P_LS = lomb_scargle(t=time, y=flux, dy=flux_error, omega=frequencies, generalized=True, subtract_mean=True, significance=None)\n",
    "    \n",
    "    # Find the best period from LS periodogram\n",
    "    bestperiodpls = periods[P_LS.argmax()]\n",
    "    print(\"Best period read from LS periodogram:\", bestperiodpls)\n",
    "\n",
    "    # Get significance via bootstrap\n",
    "    D = lomb_scargle_bootstrap(t=time, y=flux, dy=flux_error, omega=frequencies, generalized=True, N_bootstraps=100, random_state=0)\n",
    "    sig1, sig5 = np.percentile(D, [99, 95])\n",
    "\n",
    "    if plot_LS:\n",
    "        # Plot Lomb-Scargle periodogram & significance levels\n",
    "        ax2 = plt.subplot(312)\n",
    "        ax2.plot(periods,P_LS,'.-')\n",
    "        ax2.plot([periods[0], periods[-1]], [sig1, sig1], ':', c='black')\n",
    "        ax2.plot([periods[0], periods[-1]], [sig5, sig5], ':', c='grey')\n",
    "        ax2.set_title(\"Lomb-Scargle periodogram\")\n",
    "        ax2.set_xlabel(\"periods\")\n",
    "        ax2.set_ylabel(\"P ls\")\n",
    "    \n",
    "\n",
    "    if calculate_multiterm:\n",
    "        # Calculate Multiterm periodogram\n",
    "        P_M = multiterm_periodogram(t=time, y=flux, dy=flux_error, omega=frequencies, n_terms=3)\n",
    "    \n",
    "    if plot_multiterm:\n",
    "        # Plot Multiterm periodogram\n",
    "        ax3 = plt.subplot(313)\n",
    "        ax3.plot(frequencies,P_M,'.-')\n",
    "        ax3.set_title(\"Multiterm periodogram\")\n",
    "        ax3.set_xlabel(\"frequencies\")\n",
    "        ax3.set_ylabel(\"P m\")\n",
    "\n",
    "    if plot_lightcurve or plot_LS or plot_multiterm:\n",
    "        # Plots\n",
    "        plt.suptitle(file)\n",
    "        plt.subplots_adjust(hspace=0.4)\n",
    "        plt.show()\n",
    "    "
   ]
  },
  {
   "cell_type": "markdown",
   "metadata": {},
   "source": [
    "Main part. For each object (source_id), lightcurve data are downloaded (time, flux, flux_error). Then, analysis is performed."
   ]
  },
  {
   "cell_type": "code",
   "execution_count": null,
   "metadata": {},
   "outputs": [],
   "source": [
    "path = '/home/jaleksic/DATA/GaiaLCs/'\n",
    "\n",
    "for i in results:\n",
    "    print(\"=========================\")\n",
    "    print(\"Processing\",i['source_id'])\n",
    "    downloadLightcurveData(str(i['source_id']))\n",
    "    print(\"Observed period\",i['pf'])\n",
    "    analyzePeriodograms(path+str(i['source_id'])+'.vot')"
   ]
  },
  {
   "cell_type": "markdown",
   "metadata": {},
   "source": [
    "Values for periods at GAIA database are calculated using the Levenberg-Marquardt non linear ﬁtting algorithm. Values in this notebook are calculated using astroML package, which uses astropy's Lomb-Scargle algorithm. Values obtained from different procedures can be compared.\n",
    "(Clementini et al. 2016, A&A, 595, A133)\n",
    "If plot_LS is set to True, one can examine the position of the highest peak (zoom is needed).\n",
    "Also, in this example, only sources with mode_best_classification = FUNDAMENTAL are analyzed. Next step is to consider  overtones and multimode pulsators."
   ]
  }
 ],
 "metadata": {
  "kernelspec": {
   "display_name": "Python 3",
   "language": "python",
   "name": "python3"
  },
  "language_info": {
   "codemirror_mode": {
    "name": "ipython",
    "version": 3
   },
   "file_extension": ".py",
   "mimetype": "text/x-python",
   "name": "python",
   "nbconvert_exporter": "python",
   "pygments_lexer": "ipython3",
   "version": "3.6.2"
  }
 },
 "nbformat": 4,
 "nbformat_minor": 2
}
