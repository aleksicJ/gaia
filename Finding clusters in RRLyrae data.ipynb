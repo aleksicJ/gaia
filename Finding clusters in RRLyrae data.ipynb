{
 "cells": [
  {
   "cell_type": "markdown",
   "metadata": {},
   "source": [
    "# Finding clusters in RRLyrae data"
   ]
  },
  {
   "cell_type": "markdown",
   "metadata": {},
   "source": [
    "Various properties of astronomical objects may have some correlation. Given a data set of 2D points, one can examine whether they exhibit any concentration. If so, groups of points with similar properties (clusters) can be found.\n",
    "\n",
    "In this notebook, periods and magnitudes of RRLyrae, obtained from GAIA database ae considered. Gaussian mixture model is used as the algorithm for calculatiing results."
   ]
  },
  {
   "cell_type": "code",
   "execution_count": null,
   "metadata": {},
   "outputs": [],
   "source": [
    "import numpy as np\n",
    "import matplotlib.pyplot as plt\n",
    "from sklearn.mixture import GMM, GaussianMixture\n",
    "from astroquery.gaia import Gaia\n",
    "from astropy.table import Table"
   ]
  },
  {
   "cell_type": "markdown",
   "metadata": {},
   "source": [
    "Query the GAIA database and select Period-Magnitudes of RRLyrae"
   ]
  },
  {
   "cell_type": "code",
   "execution_count": null,
   "metadata": {},
   "outputs": [],
   "source": [
    "# Select Period-Magnitudes of RRLyrae\n",
    "query=\"SELECT p1, int_average_g FROM gaiadr1.rrlyrae WHERE int_average_g > 18\"\n",
    "\n",
    "name=None\n",
    "output_file='results'\n",
    "output_format='csv'\n",
    "verbose=False\n",
    "dump_to_file=False\n",
    "background=False\n",
    "upload_resource=None\n",
    "upload_table_name=None\n",
    "\n",
    "job = Gaia.launch_job_async(query, name, output_file, output_format, verbose, dump_to_file, background, upload_resource, upload_table_name)\n",
    "\n",
    "results0 = job.get_results()"
   ]
  },
  {
   "cell_type": "code",
   "execution_count": null,
   "metadata": {},
   "outputs": [],
   "source": [
    "# Must change the type, otherwise, GMM.fit will raise the error.\n",
    "results = np.array([list(elem) for elem in results0])"
   ]
  },
  {
   "cell_type": "code",
   "execution_count": null,
   "metadata": {},
   "outputs": [],
   "source": [
    "# Optionally, the results can be printed.\n",
    "print(\"Results:\\n\", results)"
   ]
  },
  {
   "cell_type": "code",
   "execution_count": null,
   "metadata": {},
   "outputs": [],
   "source": [
    "x = results[:,0] \n",
    "y = results[:,1] \n",
    "\n",
    "# Plot the lightcurve\n",
    "plt.scatter(x,y, marker='.')\n",
    "plt.title('Period-Magnitudes')\n",
    "plt.xlabel('Period')\n",
    "plt.ylabel('Magnitude')\n",
    "plt.show()"
   ]
  },
  {
   "cell_type": "markdown",
   "metadata": {},
   "source": [
    "The best model is the one with lowest BIC. So first, best number of clusters (number of components of GMM with the lowest BIC) should be found. Then, Gaussian mixture model will be calculated by specifying number of components found by previous algorithm."
   ]
  },
  {
   "cell_type": "code",
   "execution_count": null,
   "metadata": {},
   "outputs": [],
   "source": [
    "# Find best number of clusters via BIC\n",
    "N_possible_clusters = np.arange(1, 8) # Let's assume the model with up to 7 clusters\n",
    "clfs = [GaussianMixture(N, max_iter=500).fit(results) for N in N_possible_clusters] # list of len(N_possible_clusters) GMMs]\n",
    "BICs = np.array([clf.bic(results) for clf in clfs]) # numpy.ndarray of len(N_possible_clusters)\n",
    "clf = clfs[np.argmin(BICs)] # GMM with the lowest BIC\n",
    "print(\"Best number of clusters (number of components of GMM with the lowest BIC):\", clf.n_components)\n",
    "\n",
    "# Specify number of components found by previous algorithm\n",
    "gmm_input = GaussianMixture(n_components=clf.n_components) # n components mixture\n",
    "gmm_input.fit(results) # fit the model to the data\n",
    "log_dens = gmm_input.score(results, y=None) # evaluate the log density; Log probabilities of each data point in data\n",
    "\n",
    "# Print results\n",
    "print(\"Cluster\", \"Mean\")\n",
    "for i in range(clf.n_components):\n",
    "    mean = clf.means_[i]\n",
    "    print(i+1, mean)"
   ]
  }
 ],
 "metadata": {
  "kernelspec": {
   "display_name": "Python 3",
   "language": "python",
   "name": "python3"
  },
  "language_info": {
   "codemirror_mode": {
    "name": "ipython",
    "version": 3
   },
   "file_extension": ".py",
   "mimetype": "text/x-python",
   "name": "python",
   "nbconvert_exporter": "python",
   "pygments_lexer": "ipython3",
   "version": "3.6.2"
  }
 },
 "nbformat": 4,
 "nbformat_minor": 2
}
